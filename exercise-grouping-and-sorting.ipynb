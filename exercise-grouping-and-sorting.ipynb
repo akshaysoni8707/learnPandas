{
 "cells": [
  {
   "cell_type": "markdown",
   "id": "54a2f4a2",
   "metadata": {
    "papermill": {
     "duration": 0.007057,
     "end_time": "2022-09-30T17:52:09.121670",
     "exception": false,
     "start_time": "2022-09-30T17:52:09.114613",
     "status": "completed"
    },
    "tags": []
   },
   "source": [
    "**This notebook is an exercise in the [Pandas](https://www.kaggle.com/learn/pandas) course.  You can reference the tutorial at [this link](https://www.kaggle.com/residentmario/grouping-and-sorting).**\n",
    "\n",
    "---\n"
   ]
  },
  {
   "cell_type": "markdown",
   "id": "4fc738e6",
   "metadata": {
    "papermill": {
     "duration": 0.005384,
     "end_time": "2022-09-30T17:52:09.133392",
     "exception": false,
     "start_time": "2022-09-30T17:52:09.128008",
     "status": "completed"
    },
    "tags": []
   },
   "source": [
    "# Introduction\n",
    "\n",
    "In these exercises we'll apply groupwise analysis to our dataset.\n",
    "\n",
    "Run the code cell below to load the data before running the exercises."
   ]
  },
  {
   "cell_type": "code",
   "execution_count": 1,
   "id": "3534d932",
   "metadata": {
    "execution": {
     "iopub.execute_input": "2022-09-30T17:52:09.147510Z",
     "iopub.status.busy": "2022-09-30T17:52:09.146366Z",
     "iopub.status.idle": "2022-09-30T17:52:12.277070Z",
     "shell.execute_reply": "2022-09-30T17:52:12.275845Z"
    },
    "papermill": {
     "duration": 3.140644,
     "end_time": "2022-09-30T17:52:12.279729",
     "exception": false,
     "start_time": "2022-09-30T17:52:09.139085",
     "status": "completed"
    },
    "tags": []
   },
   "outputs": [
    {
     "name": "stdout",
     "output_type": "stream",
     "text": [
      "Setup complete.\n"
     ]
    }
   ],
   "source": [
    "import pandas as pd\n",
    "\n",
    "reviews = pd.read_csv(\"../input/wine-reviews/winemag-data-130k-v2.csv\", index_col=0)\n",
    "#pd.set_option(\"display.max_rows\", 5)\n",
    "\n",
    "from learntools.core import binder; binder.bind(globals())\n",
    "from learntools.pandas.grouping_and_sorting import *\n",
    "print(\"Setup complete.\")"
   ]
  },
  {
   "cell_type": "markdown",
   "id": "e9195881",
   "metadata": {
    "papermill": {
     "duration": 0.005487,
     "end_time": "2022-09-30T17:52:12.291107",
     "exception": false,
     "start_time": "2022-09-30T17:52:12.285620",
     "status": "completed"
    },
    "tags": []
   },
   "source": [
    "# Exercises"
   ]
  },
  {
   "cell_type": "markdown",
   "id": "0143d178",
   "metadata": {
    "papermill": {
     "duration": 0.005425,
     "end_time": "2022-09-30T17:52:12.302336",
     "exception": false,
     "start_time": "2022-09-30T17:52:12.296911",
     "status": "completed"
    },
    "tags": []
   },
   "source": [
    "## 1.\n",
    "Who are the most common wine reviewers in the dataset? Create a `Series` whose index is the `taster_twitter_handle` category from the dataset, and whose values count how many reviews each person wrote."
   ]
  },
  {
   "cell_type": "code",
   "execution_count": 2,
   "id": "057d4e19",
   "metadata": {
    "execution": {
     "iopub.execute_input": "2022-09-30T17:52:12.315844Z",
     "iopub.status.busy": "2022-09-30T17:52:12.315174Z",
     "iopub.status.idle": "2022-09-30T17:52:12.343047Z",
     "shell.execute_reply": "2022-09-30T17:52:12.342142Z"
    },
    "papermill": {
     "duration": 0.037232,
     "end_time": "2022-09-30T17:52:12.345220",
     "exception": false,
     "start_time": "2022-09-30T17:52:12.307988",
     "status": "completed"
    },
    "tags": []
   },
   "outputs": [
    {
     "data": {
      "application/javascript": [
       "parent.postMessage({\"jupyterEvent\": \"custom.exercise_interaction\", \"data\": {\"outcomeType\": 1, \"valueTowardsCompletion\": 0.16666666666666666, \"interactionType\": 1, \"questionType\": 1, \"questionId\": \"1_ReviewsWritten\", \"learnToolsVersion\": \"0.3.4\", \"failureMessage\": \"\", \"exceptionClass\": \"\", \"trace\": \"\"}}, \"*\")"
      ],
      "text/plain": [
       "<IPython.core.display.Javascript object>"
      ]
     },
     "metadata": {},
     "output_type": "display_data"
    },
    {
     "data": {
      "text/markdown": [
       "<span style=\"color:#33cc33\">Correct:</span> \n",
       "\n",
       "\n",
       "```python\n",
       "reviews_written = reviews.groupby('taster_twitter_handle').size()\n",
       "```\n",
       "or\n",
       "```python\n",
       "reviews_written = reviews.groupby('taster_twitter_handle').taster_twitter_handle.count()\n",
       "```\n"
      ],
      "text/plain": [
       "Correct: \n",
       "\n",
       "\n",
       "```python\n",
       "reviews_written = reviews.groupby('taster_twitter_handle').size()\n",
       "```\n",
       "or\n",
       "```python\n",
       "reviews_written = reviews.groupby('taster_twitter_handle').taster_twitter_handle.count()\n",
       "```"
      ]
     },
     "metadata": {},
     "output_type": "display_data"
    }
   ],
   "source": [
    "# Your code here\n",
    "reviews_written = reviews.groupby('taster_twitter_handle').taster_twitter_handle.count()\n",
    "\n",
    "\n",
    "# Check your answer\n",
    "q1.check()"
   ]
  },
  {
   "cell_type": "code",
   "execution_count": 3,
   "id": "96a88f48",
   "metadata": {
    "execution": {
     "iopub.execute_input": "2022-09-30T17:52:12.359377Z",
     "iopub.status.busy": "2022-09-30T17:52:12.358677Z",
     "iopub.status.idle": "2022-09-30T17:52:12.363216Z",
     "shell.execute_reply": "2022-09-30T17:52:12.362107Z"
    },
    "papermill": {
     "duration": 0.014324,
     "end_time": "2022-09-30T17:52:12.365646",
     "exception": false,
     "start_time": "2022-09-30T17:52:12.351322",
     "status": "completed"
    },
    "tags": []
   },
   "outputs": [],
   "source": [
    "#q1.hint()\n",
    "#q1.solution()"
   ]
  },
  {
   "cell_type": "markdown",
   "id": "3c957e03",
   "metadata": {
    "papermill": {
     "duration": 0.00576,
     "end_time": "2022-09-30T17:52:12.377633",
     "exception": false,
     "start_time": "2022-09-30T17:52:12.371873",
     "status": "completed"
    },
    "tags": []
   },
   "source": [
    "## 2.\n",
    "What is the best wine I can buy for a given amount of money? Create a `Series` whose index is wine prices and whose values is the maximum number of points a wine costing that much was given in a review. Sort the values by price, ascending (so that `4.0` dollars is at the top and `3300.0` dollars is at the bottom)."
   ]
  },
  {
   "cell_type": "code",
   "execution_count": 4,
   "id": "3521e624",
   "metadata": {
    "execution": {
     "iopub.execute_input": "2022-09-30T17:52:12.391760Z",
     "iopub.status.busy": "2022-09-30T17:52:12.391303Z",
     "iopub.status.idle": "2022-09-30T17:52:12.406452Z",
     "shell.execute_reply": "2022-09-30T17:52:12.405337Z"
    },
    "papermill": {
     "duration": 0.025016,
     "end_time": "2022-09-30T17:52:12.409039",
     "exception": false,
     "start_time": "2022-09-30T17:52:12.384023",
     "status": "completed"
    },
    "tags": []
   },
   "outputs": [
    {
     "data": {
      "application/javascript": [
       "parent.postMessage({\"jupyterEvent\": \"custom.exercise_interaction\", \"data\": {\"outcomeType\": 1, \"valueTowardsCompletion\": 0.16666666666666666, \"interactionType\": 1, \"questionType\": 1, \"questionId\": \"2_BestRatingPerPrice\", \"learnToolsVersion\": \"0.3.4\", \"failureMessage\": \"\", \"exceptionClass\": \"\", \"trace\": \"\"}}, \"*\")"
      ],
      "text/plain": [
       "<IPython.core.display.Javascript object>"
      ]
     },
     "metadata": {},
     "output_type": "display_data"
    },
    {
     "data": {
      "text/markdown": [
       "<span style=\"color:#33cc33\">Correct</span>"
      ],
      "text/plain": [
       "Correct"
      ]
     },
     "metadata": {},
     "output_type": "display_data"
    }
   ],
   "source": [
    "best_rating_per_price = reviews.groupby('price')['points'].max()\n",
    "# Check your answer\n",
    "q2.check()"
   ]
  },
  {
   "cell_type": "code",
   "execution_count": 5,
   "id": "0e6e744b",
   "metadata": {
    "execution": {
     "iopub.execute_input": "2022-09-30T17:52:12.423680Z",
     "iopub.status.busy": "2022-09-30T17:52:12.423260Z",
     "iopub.status.idle": "2022-09-30T17:52:12.427947Z",
     "shell.execute_reply": "2022-09-30T17:52:12.426619Z"
    },
    "papermill": {
     "duration": 0.015102,
     "end_time": "2022-09-30T17:52:12.430510",
     "exception": false,
     "start_time": "2022-09-30T17:52:12.415408",
     "status": "completed"
    },
    "tags": []
   },
   "outputs": [],
   "source": [
    "# q2.hint()\n",
    "# q2.solution()"
   ]
  },
  {
   "cell_type": "markdown",
   "id": "e5bf51bb",
   "metadata": {
    "papermill": {
     "duration": 0.006988,
     "end_time": "2022-09-30T17:52:12.443919",
     "exception": false,
     "start_time": "2022-09-30T17:52:12.436931",
     "status": "completed"
    },
    "tags": []
   },
   "source": [
    "## 3.\n",
    "What are the minimum and maximum prices for each `variety` of wine? Create a `DataFrame` whose index is the `variety` category from the dataset and whose values are the `min` and `max` values thereof."
   ]
  },
  {
   "cell_type": "code",
   "execution_count": 6,
   "id": "c5ec1453",
   "metadata": {
    "execution": {
     "iopub.execute_input": "2022-09-30T17:52:12.458228Z",
     "iopub.status.busy": "2022-09-30T17:52:12.457851Z",
     "iopub.status.idle": "2022-09-30T17:52:12.483052Z",
     "shell.execute_reply": "2022-09-30T17:52:12.481943Z"
    },
    "papermill": {
     "duration": 0.035381,
     "end_time": "2022-09-30T17:52:12.485523",
     "exception": false,
     "start_time": "2022-09-30T17:52:12.450142",
     "status": "completed"
    },
    "tags": []
   },
   "outputs": [
    {
     "data": {
      "application/javascript": [
       "parent.postMessage({\"jupyterEvent\": \"custom.exercise_interaction\", \"data\": {\"outcomeType\": 1, \"valueTowardsCompletion\": 0.16666666666666666, \"interactionType\": 1, \"questionType\": 1, \"questionId\": \"3_PriceExtremes\", \"learnToolsVersion\": \"0.3.4\", \"failureMessage\": \"\", \"exceptionClass\": \"\", \"trace\": \"\"}}, \"*\")"
      ],
      "text/plain": [
       "<IPython.core.display.Javascript object>"
      ]
     },
     "metadata": {},
     "output_type": "display_data"
    },
    {
     "data": {
      "text/markdown": [
       "<span style=\"color:#33cc33\">Correct</span>"
      ],
      "text/plain": [
       "Correct"
      ]
     },
     "metadata": {},
     "output_type": "display_data"
    }
   ],
   "source": [
    "price_extremes = reviews.groupby(['variety']).price.agg([min, max])\n",
    "\n",
    "# Check your answer\n",
    "q3.check()"
   ]
  },
  {
   "cell_type": "code",
   "execution_count": 7,
   "id": "92f2fcb9",
   "metadata": {
    "execution": {
     "iopub.execute_input": "2022-09-30T17:52:12.500436Z",
     "iopub.status.busy": "2022-09-30T17:52:12.500039Z",
     "iopub.status.idle": "2022-09-30T17:52:12.504106Z",
     "shell.execute_reply": "2022-09-30T17:52:12.503075Z"
    },
    "papermill": {
     "duration": 0.014237,
     "end_time": "2022-09-30T17:52:12.506267",
     "exception": false,
     "start_time": "2022-09-30T17:52:12.492030",
     "status": "completed"
    },
    "tags": []
   },
   "outputs": [],
   "source": [
    "#q3.hint()\n",
    "#q3.solution()"
   ]
  },
  {
   "cell_type": "markdown",
   "id": "e315c329",
   "metadata": {
    "papermill": {
     "duration": 0.006156,
     "end_time": "2022-09-30T17:52:12.518960",
     "exception": false,
     "start_time": "2022-09-30T17:52:12.512804",
     "status": "completed"
    },
    "tags": []
   },
   "source": [
    "## 4.\n",
    "What are the most expensive wine varieties? Create a variable `sorted_varieties` containing a copy of the dataframe from the previous question where varieties are sorted in descending order based on minimum price, then on maximum price (to break ties)."
   ]
  },
  {
   "cell_type": "code",
   "execution_count": 8,
   "id": "78945592",
   "metadata": {
    "execution": {
     "iopub.execute_input": "2022-09-30T17:52:12.533612Z",
     "iopub.status.busy": "2022-09-30T17:52:12.533191Z",
     "iopub.status.idle": "2022-09-30T17:52:12.546259Z",
     "shell.execute_reply": "2022-09-30T17:52:12.545149Z"
    },
    "papermill": {
     "duration": 0.023292,
     "end_time": "2022-09-30T17:52:12.548708",
     "exception": false,
     "start_time": "2022-09-30T17:52:12.525416",
     "status": "completed"
    },
    "tags": []
   },
   "outputs": [
    {
     "data": {
      "application/javascript": [
       "parent.postMessage({\"jupyterEvent\": \"custom.exercise_interaction\", \"data\": {\"outcomeType\": 1, \"valueTowardsCompletion\": 0.16666666666666666, \"interactionType\": 1, \"questionType\": 1, \"questionId\": \"4_SortedVarieties\", \"learnToolsVersion\": \"0.3.4\", \"failureMessage\": \"\", \"exceptionClass\": \"\", \"trace\": \"\"}}, \"*\")"
      ],
      "text/plain": [
       "<IPython.core.display.Javascript object>"
      ]
     },
     "metadata": {},
     "output_type": "display_data"
    },
    {
     "data": {
      "text/markdown": [
       "<span style=\"color:#33cc33\">Correct</span>"
      ],
      "text/plain": [
       "Correct"
      ]
     },
     "metadata": {},
     "output_type": "display_data"
    }
   ],
   "source": [
    "sorted_varieties = price_extremes.sort_values(by=['min','max'],ascending=False)\n",
    "\n",
    "# Check your answer\n",
    "q4.check()"
   ]
  },
  {
   "cell_type": "code",
   "execution_count": 9,
   "id": "7eaf1b37",
   "metadata": {
    "execution": {
     "iopub.execute_input": "2022-09-30T17:52:12.563970Z",
     "iopub.status.busy": "2022-09-30T17:52:12.563533Z",
     "iopub.status.idle": "2022-09-30T17:52:12.568317Z",
     "shell.execute_reply": "2022-09-30T17:52:12.567148Z"
    },
    "papermill": {
     "duration": 0.01554,
     "end_time": "2022-09-30T17:52:12.571044",
     "exception": false,
     "start_time": "2022-09-30T17:52:12.555504",
     "status": "completed"
    },
    "tags": []
   },
   "outputs": [],
   "source": [
    "#q4.hint()\n",
    "#q4.solution()"
   ]
  },
  {
   "cell_type": "markdown",
   "id": "311d0283",
   "metadata": {
    "papermill": {
     "duration": 0.006577,
     "end_time": "2022-09-30T17:52:12.584472",
     "exception": false,
     "start_time": "2022-09-30T17:52:12.577895",
     "status": "completed"
    },
    "tags": []
   },
   "source": [
    "## 5.\n",
    "Create a `Series` whose index is reviewers and whose values is the average review score given out by that reviewer. Hint: you will need the `taster_name` and `points` columns."
   ]
  },
  {
   "cell_type": "code",
   "execution_count": 10,
   "id": "8cbedafd",
   "metadata": {
    "execution": {
     "iopub.execute_input": "2022-09-30T17:52:12.599511Z",
     "iopub.status.busy": "2022-09-30T17:52:12.599103Z",
     "iopub.status.idle": "2022-09-30T17:52:12.620420Z",
     "shell.execute_reply": "2022-09-30T17:52:12.619161Z"
    },
    "papermill": {
     "duration": 0.031727,
     "end_time": "2022-09-30T17:52:12.622925",
     "exception": false,
     "start_time": "2022-09-30T17:52:12.591198",
     "status": "completed"
    },
    "tags": []
   },
   "outputs": [
    {
     "data": {
      "application/javascript": [
       "parent.postMessage({\"jupyterEvent\": \"custom.exercise_interaction\", \"data\": {\"outcomeType\": 1, \"valueTowardsCompletion\": 0.16666666666666666, \"interactionType\": 1, \"questionType\": 1, \"questionId\": \"5_ReviewerMeanRatings\", \"learnToolsVersion\": \"0.3.4\", \"failureMessage\": \"\", \"exceptionClass\": \"\", \"trace\": \"\"}}, \"*\")"
      ],
      "text/plain": [
       "<IPython.core.display.Javascript object>"
      ]
     },
     "metadata": {},
     "output_type": "display_data"
    },
    {
     "data": {
      "text/markdown": [
       "<span style=\"color:#33cc33\">Correct</span>"
      ],
      "text/plain": [
       "Correct"
      ]
     },
     "metadata": {},
     "output_type": "display_data"
    }
   ],
   "source": [
    "reviewer_mean_ratings = reviews.groupby('taster_name').points.mean()\n",
    "\n",
    "# Check your answer\n",
    "q5.check()"
   ]
  },
  {
   "cell_type": "code",
   "execution_count": 11,
   "id": "1de589df",
   "metadata": {
    "execution": {
     "iopub.execute_input": "2022-09-30T17:52:12.639030Z",
     "iopub.status.busy": "2022-09-30T17:52:12.638269Z",
     "iopub.status.idle": "2022-09-30T17:52:12.643424Z",
     "shell.execute_reply": "2022-09-30T17:52:12.642178Z"
    },
    "papermill": {
     "duration": 0.016001,
     "end_time": "2022-09-30T17:52:12.645965",
     "exception": false,
     "start_time": "2022-09-30T17:52:12.629964",
     "status": "completed"
    },
    "tags": []
   },
   "outputs": [],
   "source": [
    "#q5.hint()\n",
    "#q5.solution()"
   ]
  },
  {
   "cell_type": "markdown",
   "id": "8d02d7c4",
   "metadata": {
    "papermill": {
     "duration": 0.006787,
     "end_time": "2022-09-30T17:52:12.660375",
     "exception": false,
     "start_time": "2022-09-30T17:52:12.653588",
     "status": "completed"
    },
    "tags": []
   },
   "source": [
    "Are there significant differences in the average scores assigned by the various reviewers? Run the cell below to use the `describe()` method to see a summary of the range of values."
   ]
  },
  {
   "cell_type": "code",
   "execution_count": 12,
   "id": "350f40a5",
   "metadata": {
    "execution": {
     "iopub.execute_input": "2022-09-30T17:52:12.676657Z",
     "iopub.status.busy": "2022-09-30T17:52:12.676240Z",
     "iopub.status.idle": "2022-09-30T17:52:12.688592Z",
     "shell.execute_reply": "2022-09-30T17:52:12.687794Z"
    },
    "papermill": {
     "duration": 0.023484,
     "end_time": "2022-09-30T17:52:12.690843",
     "exception": false,
     "start_time": "2022-09-30T17:52:12.667359",
     "status": "completed"
    },
    "tags": []
   },
   "outputs": [
    {
     "data": {
      "text/plain": [
       "count    19.000000\n",
       "mean     88.233026\n",
       "std       1.243610\n",
       "min      85.855422\n",
       "25%      87.323501\n",
       "50%      88.536235\n",
       "75%      88.975256\n",
       "max      90.562551\n",
       "Name: points, dtype: float64"
      ]
     },
     "execution_count": 12,
     "metadata": {},
     "output_type": "execute_result"
    }
   ],
   "source": [
    "reviewer_mean_ratings.describe()"
   ]
  },
  {
   "cell_type": "markdown",
   "id": "e0efc7eb",
   "metadata": {
    "papermill": {
     "duration": 0.006836,
     "end_time": "2022-09-30T17:52:12.704884",
     "exception": false,
     "start_time": "2022-09-30T17:52:12.698048",
     "status": "completed"
    },
    "tags": []
   },
   "source": [
    "## 6.\n",
    "What combination of countries and varieties are most common? Create a `Series` whose index is a `MultiIndex`of `{country, variety}` pairs. For example, a pinot noir produced in the US should map to `{\"US\", \"Pinot Noir\"}`. Sort the values in the `Series` in descending order based on wine count."
   ]
  },
  {
   "cell_type": "code",
   "execution_count": 13,
   "id": "5d3f58c8",
   "metadata": {
    "execution": {
     "iopub.execute_input": "2022-09-30T17:52:12.721288Z",
     "iopub.status.busy": "2022-09-30T17:52:12.720562Z",
     "iopub.status.idle": "2022-09-30T17:52:12.758364Z",
     "shell.execute_reply": "2022-09-30T17:52:12.757218Z"
    },
    "papermill": {
     "duration": 0.048802,
     "end_time": "2022-09-30T17:52:12.760878",
     "exception": false,
     "start_time": "2022-09-30T17:52:12.712076",
     "status": "completed"
    },
    "tags": []
   },
   "outputs": [
    {
     "data": {
      "application/javascript": [
       "parent.postMessage({\"jupyterEvent\": \"custom.exercise_interaction\", \"data\": {\"outcomeType\": 1, \"valueTowardsCompletion\": 0.16666666666666666, \"interactionType\": 1, \"questionType\": 1, \"questionId\": \"6_GroupbyCountryVariety\", \"learnToolsVersion\": \"0.3.4\", \"failureMessage\": \"\", \"exceptionClass\": \"\", \"trace\": \"\"}}, \"*\")"
      ],
      "text/plain": [
       "<IPython.core.display.Javascript object>"
      ]
     },
     "metadata": {},
     "output_type": "display_data"
    },
    {
     "data": {
      "text/markdown": [
       "<span style=\"color:#33cc33\">Correct</span>"
      ],
      "text/plain": [
       "Correct"
      ]
     },
     "metadata": {},
     "output_type": "display_data"
    }
   ],
   "source": [
    "country_variety_counts = reviews.groupby(['country','variety']).size().sort_values(ascending=False)\n",
    "# country_variety_counts\n",
    "# Check your answer\n",
    "q6.check()"
   ]
  },
  {
   "cell_type": "code",
   "execution_count": 14,
   "id": "ede77c9e",
   "metadata": {
    "execution": {
     "iopub.execute_input": "2022-09-30T17:52:12.778852Z",
     "iopub.status.busy": "2022-09-30T17:52:12.778400Z",
     "iopub.status.idle": "2022-09-30T17:52:12.782950Z",
     "shell.execute_reply": "2022-09-30T17:52:12.781807Z"
    },
    "papermill": {
     "duration": 0.016783,
     "end_time": "2022-09-30T17:52:12.785328",
     "exception": false,
     "start_time": "2022-09-30T17:52:12.768545",
     "status": "completed"
    },
    "tags": []
   },
   "outputs": [],
   "source": [
    "# q6.hint()\n",
    "#q6.solution()"
   ]
  },
  {
   "cell_type": "markdown",
   "id": "398df78c",
   "metadata": {
    "papermill": {
     "duration": 0.007191,
     "end_time": "2022-09-30T17:52:12.800094",
     "exception": false,
     "start_time": "2022-09-30T17:52:12.792903",
     "status": "completed"
    },
    "tags": []
   },
   "source": [
    "# Keep going\n",
    "\n",
    "Move on to the [**data types and missing data**](https://www.kaggle.com/residentmario/data-types-and-missing-values)."
   ]
  },
  {
   "cell_type": "markdown",
   "id": "3c90d1c9",
   "metadata": {
    "papermill": {
     "duration": 0.007497,
     "end_time": "2022-09-30T17:52:12.814968",
     "exception": false,
     "start_time": "2022-09-30T17:52:12.807471",
     "status": "completed"
    },
    "tags": []
   },
   "source": [
    "---\n",
    "\n",
    "\n",
    "\n",
    "\n",
    "*Have questions or comments? Visit the [course discussion forum](https://www.kaggle.com/learn/pandas/discussion) to chat with other learners.*"
   ]
  }
 ],
 "metadata": {
  "kernelspec": {
   "display_name": "Python 3",
   "language": "python",
   "name": "python3"
  },
  "language_info": {
   "codemirror_mode": {
    "name": "ipython",
    "version": 3
   },
   "file_extension": ".py",
   "mimetype": "text/x-python",
   "name": "python",
   "nbconvert_exporter": "python",
   "pygments_lexer": "ipython3",
   "version": "3.7.12"
  },
  "papermill": {
   "default_parameters": {},
   "duration": 14.395548,
   "end_time": "2022-09-30T17:52:13.543852",
   "environment_variables": {},
   "exception": null,
   "input_path": "__notebook__.ipynb",
   "output_path": "__notebook__.ipynb",
   "parameters": {},
   "start_time": "2022-09-30T17:51:59.148304",
   "version": "2.3.4"
  }
 },
 "nbformat": 4,
 "nbformat_minor": 5
}
